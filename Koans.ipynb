{
 "cells": [
  {
   "cell_type": "code",
   "execution_count": 8,
   "metadata": {
    "collapsed": true
   },
   "outputs": [],
   "source": [
    "import random\n",
    "\n",
    "def randarr(total):\n",
    "    arr = []\n",
    "    for i in range(0, total):\n",
    "        arr.append(random.randint(0, 10000))\n",
    "    return arr\n",
    "    "
   ]
  },
  {
   "cell_type": "markdown",
   "metadata": {},
   "source": [
    "# Quicksort\n",
    "\n",
    "Sorts an array of items by picking a `pivot` element in the array and sorting items into a left and right subarrays"
   ]
  },
  {
   "cell_type": "code",
   "execution_count": 9,
   "metadata": {
    "collapsed": false
   },
   "outputs": [
    {
     "name": "stdout",
     "output_type": "stream",
     "text": [
      "Original Array: [551, 9026, 6265, 1715, 2669, 9384, 923, 2584, 7264, 7328]\n",
      "Sorted Array: [551, 923, 1715, 2584, 2669, 6265, 7264, 7328, 9026, 9384]\n"
     ]
    }
   ],
   "source": [
    "arr = randarr(10)\n",
    "def quicksort(arr):\n",
    "    if(len(arr) > 0):\n",
    "        pivot = arr[len(arr) - 1]\n",
    "        left = []\n",
    "        right = []\n",
    "        for i in arr:\n",
    "            if i < pivot:\n",
    "                left.append(i)\n",
    "            elif i > pivot:\n",
    "                right.append(i)\n",
    "        return quicksort(left) + [pivot] + quicksort(right)\n",
    "    return []\n",
    "\n",
    "print \"Original Array: {0}\".format(arr) \n",
    "print \"Sorted Array: {0}\".format(quicksort(arr))"
   ]
  },
  {
   "cell_type": "markdown",
   "metadata": {},
   "source": [
    "# Bubblesort\n",
    "\n",
    "Sort an array by swapping positions. Requires multiple passes through the array to ensure the lowest value has bubbled to the top"
   ]
  },
  {
   "cell_type": "code",
   "execution_count": 29,
   "metadata": {
    "collapsed": false
   },
   "outputs": [
    {
     "name": "stdout",
     "output_type": "stream",
     "text": [
      "Original Array: [8494, 2650, 5303, 4745, 6318, 9649, 3332, 5389, 7907, 5045]\n",
      "Sorted Array: [2650, 3332, 4745, 5045, 5303, 5389, 6318, 7907, 8494, 9649]\n"
     ]
    }
   ],
   "source": [
    "arr = randarr(10)\n",
    "def bubblesort(arr):\n",
    "    changed = False\n",
    "    for i in range(0, len(arr)):\n",
    "        if i + 1 < len(arr):\n",
    "            if arr[i + 1] < arr[i]:\n",
    "                temp = arr[i]\n",
    "                arr[i] = arr[i + 1]\n",
    "                arr[i + 1] = temp\n",
    "                changed = True\n",
    "    if changed:\n",
    "        return bubblesort(arr)\n",
    "    else:\n",
    "        return arr\n",
    "        \n",
    "print \"Original Array: {0}\".format(arr) \n",
    "print \"Sorted Array: {0}\".format(bubblesort(arr))"
   ]
  },
  {
   "cell_type": "markdown",
   "metadata": {},
   "source": [
    "# Fizzbuzz\n",
    "Write a program that prints the integers from 1 to 100. But for multiples of three print \"Fizz\" instead of the number, and for the multiples of five print \"Buzz\". \n",
    "For numbers which are multiples of both three and five print \"FizzBuzz\"."
   ]
  },
  {
   "cell_type": "code",
   "execution_count": 64,
   "metadata": {
    "collapsed": false
   },
   "outputs": [
    {
     "name": "stdout",
     "output_type": "stream",
     "text": [
      "1\n",
      "2\n",
      "Fizz\n",
      "4\n",
      "Buzz\n",
      "Fizz\n",
      "7\n",
      "8\n",
      "Fizz\n",
      "Buzz\n",
      "11\n",
      "Fizz\n",
      "13\n",
      "14\n",
      "FizzBuzz\n",
      "16\n",
      "17\n",
      "Fizz\n",
      "19\n",
      "Buzz\n",
      "Fizz\n",
      "22\n",
      "23\n",
      "Fizz\n",
      "Buzz\n",
      "26\n",
      "Fizz\n",
      "28\n",
      "29\n",
      "FizzBuzz\n",
      "31\n",
      "32\n",
      "Fizz\n",
      "34\n",
      "Buzz\n",
      "Fizz\n",
      "37\n",
      "38\n",
      "Fizz\n",
      "Buzz\n",
      "41\n",
      "Fizz\n",
      "43\n",
      "44\n",
      "FizzBuzz\n",
      "46\n",
      "47\n",
      "Fizz\n",
      "49\n",
      "Buzz\n",
      "Fizz\n",
      "52\n",
      "53\n",
      "Fizz\n",
      "Buzz\n",
      "56\n",
      "Fizz\n",
      "58\n",
      "59\n",
      "FizzBuzz\n",
      "61\n",
      "62\n",
      "Fizz\n",
      "64\n",
      "Buzz\n",
      "Fizz\n",
      "67\n",
      "68\n",
      "Fizz\n",
      "Buzz\n",
      "71\n",
      "Fizz\n",
      "73\n",
      "74\n",
      "FizzBuzz\n",
      "76\n",
      "77\n",
      "Fizz\n",
      "79\n",
      "Buzz\n",
      "Fizz\n",
      "82\n",
      "83\n",
      "Fizz\n",
      "Buzz\n",
      "86\n",
      "Fizz\n",
      "88\n",
      "89\n",
      "FizzBuzz\n",
      "91\n",
      "92\n",
      "Fizz\n",
      "94\n",
      "Buzz\n",
      "Fizz\n",
      "97\n",
      "98\n",
      "Fizz\n"
     ]
    }
   ],
   "source": [
    "for i in range(1, 100):\n",
    "    s = \"\"\n",
    "    if i % 3 == 0:\n",
    "        s += \"Fizz\"\n",
    "    if i % 5 == 0:\n",
    "        s += \"Buzz\"\n",
    "    if s == '':\n",
    "        s = i\n",
    "    print s"
   ]
  },
  {
   "cell_type": "markdown",
   "metadata": {},
   "source": [
    "# B-Tree\n",
    "Given a b-tree structure, compare the left to the right to ensure the structure is a mirror\n",
    "```\n",
    "        7\n",
    "       / \\\n",
    "      3   3\n",
    "     / \\ / \\\n",
    "    4  5 5  4\n",
    "```"
   ]
  },
  {
   "cell_type": "code",
   "execution_count": 66,
   "metadata": {
    "collapsed": false
   },
   "outputs": [
    {
     "name": "stdout",
     "output_type": "stream",
     "text": [
      "Left and right branches of tree are equal: True\n"
     ]
    }
   ],
   "source": [
    "class Node:\n",
    "    \n",
    "    def __init__(self, data, left=None, right=None):\n",
    "        self.data = data\n",
    "        self.left = left\n",
    "        self.right = right\n",
    "        \n",
    "tree = Node(7, left=Node(3, left=Node(4), right=Node(5)), right=Node(3, left=Node(5), right=Node(4)))\n",
    "\n",
    "\n",
    "def compare(left, right):\n",
    "    if(left and right and left.data == right.data):\n",
    "        return True and compare(left.right, right.left) and compare(left.left, right.right)\n",
    "    elif left is None and right is None:\n",
    "        return True\n",
    "    else:\n",
    "        return False\n",
    "\n",
    "    \n",
    "    \n",
    "print \"Left and right branches of tree are equal: {0}\".format(compare(tree.left, tree.right))"
   ]
  },
  {
   "cell_type": "markdown",
   "metadata": {
    "collapsed": false
   },
   "source": [
    "# B-Tree Level Traversal\n",
    "Navigate a b-tree by level and print out the data for each node\n",
    "\n",
    "For example:\n",
    "```\n",
    "        7\n",
    "       / \\\n",
    "      3   3\n",
    "     / \\ / \\\n",
    "    4  5 5  4\n",
    "```\n",
    "Should yield: 7, 3, 3, 4, 5, 5, 4\n"
   ]
  },
  {
   "cell_type": "code",
   "execution_count": 5,
   "metadata": {
    "collapsed": false
   },
   "outputs": [
    {
     "name": "stdout",
     "output_type": "stream",
     "text": [
      "7\n",
      "[3, 3]\n",
      "3\n",
      "[3, 4, 5]\n",
      "3\n",
      "[4, 5, 5, 4]\n",
      "4\n",
      "[5, 5, 4, None, None]\n",
      "5\n",
      "[5, 4, None, None, None, None]\n",
      "5\n",
      "[4, None, None, None, None, None, None]\n",
      "4\n",
      "[None, None, None, None, None, None, None, None]\n",
      "[None, None, None, None, None, None, None]\n",
      "[None, None, None, None, None, None]\n",
      "[None, None, None, None, None]\n",
      "[None, None, None, None]\n",
      "[None, None, None]\n",
      "[None, None]\n",
      "[None]\n"
     ]
    }
   ],
   "source": [
    "from Queue import Queue\n",
    "\n",
    "class Node:\n",
    "    \n",
    "    def __init__(self, data, left=None, right=None):\n",
    "        self.data = data\n",
    "        self.left = left\n",
    "        self.right = right\n",
    "    \n",
    "    def __repr__(self):\n",
    "        return str(self.data)\n",
    "        \n",
    "tree = Node(7, left=Node(3, left=Node(4), right=Node(5)), right=Node(3, left=Node(5), right=Node(4)))\n",
    "\n",
    "\n",
    "def level(node, more = None):\n",
    "    if node is not None:\n",
    "        if more is None:\n",
    "            more = []\n",
    "        more += [node.left, node.right]\n",
    "        print node.data\n",
    "    if more:\n",
    "        print more\n",
    "        level(more[0], more[1:])\n",
    "\n",
    "level(tree)\n"
   ]
  },
  {
   "cell_type": "code",
   "execution_count": null,
   "metadata": {
    "collapsed": true
   },
   "outputs": [],
   "source": []
  }
 ],
 "metadata": {
  "kernelspec": {
   "display_name": "Python 2",
   "language": "python",
   "name": "python2"
  },
  "language_info": {
   "codemirror_mode": {
    "name": "ipython",
    "version": 2
   },
   "file_extension": ".py",
   "mimetype": "text/x-python",
   "name": "python",
   "nbconvert_exporter": "python",
   "pygments_lexer": "ipython2",
   "version": "2.7.10"
  }
 },
 "nbformat": 4,
 "nbformat_minor": 0
}
