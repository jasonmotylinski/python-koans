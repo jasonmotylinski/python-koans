{
 "cells": [
  {
   "cell_type": "code",
   "execution_count": 42,
   "metadata": {
    "collapsed": true
   },
   "outputs": [],
   "source": [
    "data = [{\"artist\" : \"Prince\", \"song\": \"When Doves Cry\"}, \n",
    "        {\"artist\" : \"Prince\", \"song\": \"When Doves Cry\"},\n",
    "        {\"artist\": \"Bob Dylan\", \"song\": \"The Hurricane\"},\n",
    "        {\"artist\": \"4onthefloor\", \"song\": \"Junkie\"}]"
   ]
  },
  {
   "cell_type": "code",
   "execution_count": 43,
   "metadata": {},
   "outputs": [],
   "source": [
    "map_results = map(lambda x: (x[\"artist\"], 1), data)"
   ]
  },
  {
   "cell_type": "code",
   "execution_count": 44,
   "metadata": {},
   "outputs": [
    {
     "data": {
      "text/plain": [
       "{'4onthefloor': 1, 'Bob Dylan': 1, 'Prince': 2}"
      ]
     },
     "execution_count": 44,
     "metadata": {},
     "output_type": "execute_result"
    }
   ],
   "source": [
    "\n",
    "def red(x, y):\n",
    "    results = {}\n",
    "    if isinstance(x, tuple):\n",
    "        results[x[0]] = x[1]\n",
    "    else:\n",
    "        results = x\n",
    "    \n",
    "    if not y[0] in x:\n",
    "        results[y[0]] = y[1]\n",
    "    else:\n",
    "        results[y[0]] += y[1]\n",
    "    return results\n",
    "\n",
    "reduce(lambda x,y: red(x, y), map_results)"
   ]
  },
  {
   "cell_type": "code",
   "execution_count": null,
   "metadata": {
    "collapsed": true
   },
   "outputs": [],
   "source": []
  }
 ],
 "metadata": {
  "kernelspec": {
   "display_name": "Python 2",
   "language": "python",
   "name": "python2"
  },
  "language_info": {
   "codemirror_mode": {
    "name": "ipython",
    "version": 2
   },
   "file_extension": ".py",
   "mimetype": "text/x-python",
   "name": "python",
   "nbconvert_exporter": "python",
   "pygments_lexer": "ipython2",
   "version": "2.7.13"
  }
 },
 "nbformat": 4,
 "nbformat_minor": 2
}
