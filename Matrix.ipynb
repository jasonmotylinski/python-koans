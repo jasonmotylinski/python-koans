{
 "cells": [
  {
   "cell_type": "code",
   "execution_count": 5,
   "metadata": {
    "collapsed": false
   },
   "outputs": [
    {
     "name": "stdout",
     "output_type": "stream",
     "text": [
      "[['a'], ['b'], ['c']]\n",
      "[['a', 'd'], ['b', 'd'], ['c', 'd'], ['a', 'e'], ['b', 'e'], ['c', 'e'], ['a', 'f'], ['b', 'f'], ['c', 'f']]\n",
      "[['a', 'd', 'h'], ['b', 'd', 'h'], ['c', 'd', 'h'], ['a', 'e', 'h'], ['b', 'e', 'h'], ['c', 'e', 'h'], ['a', 'f', 'h'], ['b', 'f', 'h'], ['c', 'f', 'h'], ['a', 'd', 'i'], ['b', 'd', 'i'], ['c', 'd', 'i'], ['a', 'e', 'i'], ['b', 'e', 'i'], ['c', 'e', 'i'], ['a', 'f', 'i'], ['b', 'f', 'i'], ['c', 'f', 'i'], ['a', 'd', 'j'], ['b', 'd', 'j'], ['c', 'd', 'j'], ['a', 'e', 'j'], ['b', 'e', 'j'], ['c', 'e', 'j'], ['a', 'f', 'j'], ['b', 'f', 'j'], ['c', 'f', 'j']]\n",
      "[['a', 'd', 'h'], ['b', 'd', 'h'], ['c', 'd', 'h'], ['a', 'e', 'h'], ['b', 'e', 'h'], ['c', 'e', 'h'], ['a', 'f', 'h'], ['b', 'f', 'h'], ['c', 'f', 'h'], ['a', 'd', 'i'], ['b', 'd', 'i'], ['c', 'd', 'i'], ['a', 'e', 'i'], ['b', 'e', 'i'], ['c', 'e', 'i'], ['a', 'f', 'i'], ['b', 'f', 'i'], ['c', 'f', 'i'], ['a', 'd', 'j'], ['b', 'd', 'j'], ['c', 'd', 'j'], ['a', 'e', 'j'], ['b', 'e', 'j'], ['c', 'e', 'j'], ['a', 'f', 'j'], ['b', 'f', 'j'], ['c', 'f', 'j']]\n"
     ]
    }
   ],
   "source": [
    "data = [['a', 'b', 'c'], ['d', 'e', 'f'], [\"h\", \"i\", \"j\"]]\n",
    "output = [[]]\n",
    "for d in data:\n",
    "    x = []\n",
    "    for y in d:\n",
    "        for z in output:\n",
    "            x.append(z+[y])\n",
    "    print x\n",
    "    output = x\n",
    "print output"
   ]
  },
  {
   "cell_type": "code",
   "execution_count": null,
   "metadata": {
    "collapsed": true
   },
   "outputs": [],
   "source": []
  }
 ],
 "metadata": {
  "kernelspec": {
   "display_name": "Python 2",
   "language": "python",
   "name": "python2"
  },
  "language_info": {
   "codemirror_mode": {
    "name": "ipython",
    "version": 2
   },
   "file_extension": ".py",
   "mimetype": "text/x-python",
   "name": "python",
   "nbconvert_exporter": "python",
   "pygments_lexer": "ipython2",
   "version": "2.7.13"
  }
 },
 "nbformat": 4,
 "nbformat_minor": 2
}
