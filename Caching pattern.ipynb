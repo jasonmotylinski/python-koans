{
 "cells": [
  {
   "cell_type": "code",
   "execution_count": 49,
   "metadata": {
    "collapsed": false
   },
   "outputs": [
    {
     "name": "stdout",
     "output_type": "stream",
     "text": [
      "{'key2': <__main__.Node object at 0x10669a1d0>}\n"
     ]
    }
   ],
   "source": [
    "class Node(object):\n",
    "    def __init__(self, key=None, value=None, next=None, prev=None):\n",
    "        self.key = key\n",
    "        self.value = value\n",
    "        self.next = next\n",
    "        self.prev = prev\n",
    "        \n",
    "    def is_empty(self):\n",
    "        return self.key is None and self.value is None\n",
    "        \n",
    "\n",
    "class Cache(object):\n",
    "    cache = {}\n",
    "    head = Node()\n",
    "    size = 1\n",
    "    \n",
    "    def __init__(self, size):\n",
    "        self.head.prev = self.head\n",
    "        self.head.next = self.head\n",
    "        self.size = 1\n",
    "        \n",
    "    def get(self, key):\n",
    "        return self.cache.get(key).value\n",
    "    \n",
    "    def set(self, key, value):\n",
    "        if key in self.cache:\n",
    "            node = self.cache[key]\n",
    "            node.value = value\n",
    "            self.head = node\n",
    "            return\n",
    "        \n",
    "        node = self.head.prev\n",
    "        \n",
    "        if not node.is_empty():\n",
    "            del self.cache[node.key]\n",
    "        \n",
    "        node.key = key\n",
    "        node.value = value\n",
    "        \n",
    "        self.head = node\n",
    "        self.cache[key] = node\n",
    "    \n",
    "c = Cache(1)\n",
    "\n",
    "c.set('key1', '123')\n",
    "c.get('key1')\n",
    "\n",
    "c.set('key2', '456')\n",
    "c.get('key2')\n",
    "\n",
    "print c.cache"
   ]
  },
  {
   "cell_type": "code",
   "execution_count": null,
   "metadata": {
    "collapsed": true
   },
   "outputs": [],
   "source": []
  },
  {
   "cell_type": "code",
   "execution_count": null,
   "metadata": {
    "collapsed": true
   },
   "outputs": [],
   "source": []
  }
 ],
 "metadata": {
  "kernelspec": {
   "display_name": "Python 2",
   "language": "python",
   "name": "python2"
  },
  "language_info": {
   "codemirror_mode": {
    "name": "ipython",
    "version": 2
   },
   "file_extension": ".py",
   "mimetype": "text/x-python",
   "name": "python",
   "nbconvert_exporter": "python",
   "pygments_lexer": "ipython2",
   "version": "2.7.10"
  }
 },
 "nbformat": 4,
 "nbformat_minor": 1
}
