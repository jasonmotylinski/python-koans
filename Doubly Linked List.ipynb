{
 "cells": [
  {
   "cell_type": "code",
   "execution_count": 6,
   "metadata": {
    "collapsed": false
   },
   "outputs": [
    {
     "name": "stdout",
     "output_type": "stream",
     "text": [
      "2<--3-->\n"
     ]
    }
   ],
   "source": [
    "class Node(object):\n",
    "    \n",
    "    def __init__(self, data, next, prev):\n",
    "        self.data = data\n",
    "        self.next = next\n",
    "        self.prev = prev\n",
    "    \n",
    "    def __str__(self):\n",
    "        prev = '' if self.prev is None else str(self.prev.data)\n",
    "        n = '' if self.next is None else str(self.next.data)\n",
    "        return \"{0}<--{1}-->{2}\".format(prev, str(self.data), n)\n",
    "        \n",
    "class DoublyLinkedList(object):\n",
    "    head = None\n",
    "    tail = None\n",
    "    \n",
    "    def append(self, data):\n",
    "        n = Node(data, None, None)\n",
    "        if self.head is None:\n",
    "            self.head = self.tail = n\n",
    "        else:\n",
    "            n.prev = self.tail\n",
    "            n.next = None\n",
    "            self.tail.next = n\n",
    "            self.tail = n\n",
    "\n",
    "d = DoublyLinkedList()\n",
    "\n",
    "d.append(1)\n",
    "d.append(2)\n",
    "d.append(3)\n",
    "print d.tail"
   ]
  },
  {
   "cell_type": "code",
   "execution_count": null,
   "metadata": {
    "collapsed": true
   },
   "outputs": [],
   "source": []
  },
  {
   "cell_type": "code",
   "execution_count": null,
   "metadata": {
    "collapsed": true
   },
   "outputs": [],
   "source": []
  }
 ],
 "metadata": {
  "kernelspec": {
   "display_name": "Python 2",
   "language": "python",
   "name": "python2"
  },
  "language_info": {
   "codemirror_mode": {
    "name": "ipython",
    "version": 2
   },
   "file_extension": ".py",
   "mimetype": "text/x-python",
   "name": "python",
   "nbconvert_exporter": "python",
   "pygments_lexer": "ipython2",
   "version": "2.7.10"
  }
 },
 "nbformat": 4,
 "nbformat_minor": 1
}
