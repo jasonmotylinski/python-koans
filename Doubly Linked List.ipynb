{
 "cells": [
  {
   "cell_type": "code",
   "execution_count": 25,
   "metadata": {
    "collapsed": false
   },
   "outputs": [
    {
     "name": "stdout",
     "output_type": "stream",
     "text": [
      "None<--1<--2<--4<--3\n"
     ]
    }
   ],
   "source": [
    "class Node(object):\n",
    "    \n",
    "    def __init__(self, data, next, prev):\n",
    "        self.data = data\n",
    "        self.next = next\n",
    "        self.prev = prev\n",
    "    \n",
    "    def __str__(self):\n",
    "        return \"{0}<--{1}\".format(self.prev, str(self.data))\n",
    "        \n",
    "class DoublyLinkedList(object):\n",
    "    head = None\n",
    "    tail = None\n",
    "    \n",
    "    def append(self, data):\n",
    "        n = Node(data, None, None)\n",
    "        if self.head is None:\n",
    "            self.head = self.tail = n\n",
    "        else:\n",
    "            n.prev = self.head\n",
    "            n.next = None\n",
    "            self.head.next = n\n",
    "            self.head = n\n",
    "            \n",
    "    def insertAt(self, at, data):\n",
    "        n = Node(data, None, None)\n",
    "        \n",
    "        atNode = self.find(self.head, at)\n",
    "        \n",
    "        n.prev = atNode\n",
    "        n.next = atNode.next\n",
    "        \n",
    "        atNode.next.prev = n\n",
    "        atNode.next = n\n",
    "            \n",
    "            \n",
    "    def find(self, node, data):\n",
    "        if node is None:\n",
    "            return\n",
    "        if node.data == data:\n",
    "            return node\n",
    "        else:\n",
    "            return self.find(node.prev, data)\n",
    "            \n",
    "        \n",
    "\n",
    "d = DoublyLinkedList()\n",
    "\n",
    "d.append(1)\n",
    "d.append(2)\n",
    "d.append(3)\n",
    "d.insertAt(2,4)\n",
    "print d.head"
   ]
  },
  {
   "cell_type": "code",
   "execution_count": null,
   "metadata": {
    "collapsed": true
   },
   "outputs": [],
   "source": []
  },
  {
   "cell_type": "code",
   "execution_count": null,
   "metadata": {
    "collapsed": true
   },
   "outputs": [],
   "source": []
  }
 ],
 "metadata": {
  "kernelspec": {
   "display_name": "Python 2",
   "language": "python",
   "name": "python2"
  },
  "language_info": {
   "codemirror_mode": {
    "name": "ipython",
    "version": 2
   },
   "file_extension": ".py",
   "mimetype": "text/x-python",
   "name": "python",
   "nbconvert_exporter": "python",
   "pygments_lexer": "ipython2",
   "version": "2.7.10"
  }
 },
 "nbformat": 4,
 "nbformat_minor": 1
}
