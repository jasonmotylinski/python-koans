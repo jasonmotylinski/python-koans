{
 "cells": [
  {
   "cell_type": "code",
   "execution_count": 8,
   "metadata": {
    "collapsed": true
   },
   "outputs": [],
   "source": [
    "words = ['there', 'their', 'this', 'that', 'here']"
   ]
  },
  {
   "cell_type": "code",
   "execution_count": 9,
   "metadata": {
    "collapsed": false
   },
   "outputs": [
    {
     "name": "stdout",
     "output_type": "stream",
     "text": [
      "{'h': {'e': {'r': {'e': {}}}}, 't': {'h': {'i': {'s': {}}, 'a': {'t': {}}, 'e': {'i': {'r': {}}, 'r': {'e': {}}}}}}\n"
     ]
    }
   ],
   "source": [
    "trie = {}\n",
    "for word in words:\n",
    "    root = trie\n",
    "    for letter in word:\n",
    "        if letter in root:\n",
    "            root = root[letter]\n",
    "        else:\n",
    "            root[letter] = {}\n",
    "            root = root[letter]\n",
    "print trie"
   ]
  },
  {
   "cell_type": "code",
   "execution_count": 13,
   "metadata": {
    "collapsed": false
   },
   "outputs": [
    {
     "name": "stdout",
     "output_type": "stream",
     "text": [
      "t\n",
      "h\n",
      "i\n",
      "s\n"
     ]
    }
   ],
   "source": [
    "find_word = 'this'\n",
    "\n",
    "root = trie\n",
    "for letter in find_word:\n",
    "    for key in root.keys():\n",
    "        if key == letter:\n",
    "            root = root[letter]\n",
    "            print letter"
   ]
  },
  {
   "cell_type": "code",
   "execution_count": null,
   "metadata": {
    "collapsed": true
   },
   "outputs": [],
   "source": []
  }
 ],
 "metadata": {
  "kernelspec": {
   "display_name": "Python 2",
   "language": "python",
   "name": "python2"
  },
  "language_info": {
   "codemirror_mode": {
    "name": "ipython",
    "version": 2
   },
   "file_extension": ".py",
   "mimetype": "text/x-python",
   "name": "python",
   "nbconvert_exporter": "python",
   "pygments_lexer": "ipython2",
   "version": "2.7.10"
  }
 },
 "nbformat": 4,
 "nbformat_minor": 1
}
