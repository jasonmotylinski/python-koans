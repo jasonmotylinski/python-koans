{
 "cells": [
  {
   "cell_type": "code",
   "execution_count": 12,
   "metadata": {},
   "outputs": [],
   "source": [
    "def get_words():\n",
    "    result = {}\n",
    "    with open('/usr/share/dict/words') as f:\n",
    "        for word in f.read().split('\\n'):\n",
    "             result[word.lower().strip()] = None\n",
    "    return result\n",
    "words = get_words()"
   ]
  },
  {
   "cell_type": "code",
   "execution_count": 15,
   "metadata": {},
   "outputs": [
    {
     "data": {
      "text/plain": [
       "{'bog',\n",
       " 'cag',\n",
       " 'cig',\n",
       " 'cob',\n",
       " 'cod',\n",
       " 'coe',\n",
       " 'col',\n",
       " 'con',\n",
       " 'coo',\n",
       " 'cop',\n",
       " 'cor',\n",
       " 'cos',\n",
       " 'cot',\n",
       " 'cow',\n",
       " 'cox',\n",
       " 'coy',\n",
       " 'coz',\n",
       " 'dog',\n",
       " 'fog',\n",
       " 'gog',\n",
       " 'hog',\n",
       " 'jog',\n",
       " 'log',\n",
       " 'mog',\n",
       " 'nog',\n",
       " 'rog',\n",
       " 'sog',\n",
       " 'tog',\n",
       " 'vog',\n",
       " 'wog'}"
      ]
     },
     "execution_count": 15,
     "metadata": {},
     "output_type": "execute_result"
    }
   ],
   "source": [
    "def single_move(words, word1): \n",
    "    if words[word1] is not None:\n",
    "        return words[word1]\n",
    "    \n",
    "    results = set()\n",
    "    for word2 in words:\n",
    "        if len(word1) == len(word2):\n",
    "            count = 0\n",
    "            for i in range(0, len(word1)):\n",
    "                if word1[i] == word2[i]:\n",
    "                    count = count + 1\n",
    "            if count == len(word1) - 1:\n",
    "                results.add(word2)\n",
    "    words[word1] = results\n",
    "    \n",
    "    return results\n",
    "single_move(get_words(), 'cog')"
   ]
  },
  {
   "cell_type": "code",
   "execution_count": 17,
   "metadata": {},
   "outputs": [
    {
     "name": "stdout",
     "output_type": "stream",
     "text": [
      "['cat', 'cot', 'dot', 'dog']\n",
      "['cat', 'cot', 'cog', 'dog']\n",
      "['cat', 'cag', 'dag', 'dog']\n",
      "['cat', 'cag', 'cog', 'dog']\n",
      "['cat', 'tat', 'tag', 'tog', 'dog']\n",
      "['cat', 'tat', 'tag', 'dag', 'dog']\n",
      "['cat', 'tat', 'tot', 'tog', 'dog']\n",
      "['cat', 'tat', 'tot', 'dot', 'dog']\n",
      "['cat', 'rat', 'rag', 'rog', 'dog']\n",
      "['cat', 'rat', 'rag', 'dag', 'dog']\n",
      "['cat', 'rat', 'rot', 'rog', 'dog']\n",
      "['cat', 'rat', 'rot', 'dot', 'dog']\n",
      "['cat', 'zat', 'zag', 'dag', 'dog']\n",
      "['cat', 'sat', 'sag', 'dag', 'dog']\n",
      "['cat', 'sat', 'sag', 'sog', 'dog']\n",
      "['cat', 'sat', 'sot', 'sog', 'dog']\n",
      "['cat', 'sat', 'sot', 'dot', 'dog']\n"
     ]
    },
    {
     "ename": "KeyboardInterrupt",
     "evalue": "",
     "output_type": "error",
     "traceback": [
      "\u001b[0;31m---------------------------------------------------------------------------\u001b[0m",
      "\u001b[0;31mKeyboardInterrupt\u001b[0m                         Traceback (most recent call last)",
      "\u001b[0;32m<ipython-input-17-15b1ed0186ae>\u001b[0m in \u001b[0;36m<module>\u001b[0;34m()\u001b[0m\n\u001b[1;32m     11\u001b[0m                 \u001b[0mqueue\u001b[0m\u001b[0;34m.\u001b[0m\u001b[0mappend\u001b[0m\u001b[0;34m(\u001b[0m\u001b[0;34m(\u001b[0m\u001b[0mmove\u001b[0m\u001b[0;34m,\u001b[0m \u001b[0mpath\u001b[0m \u001b[0;34m+\u001b[0m \u001b[0;34m[\u001b[0m\u001b[0mmove\u001b[0m\u001b[0;34m]\u001b[0m\u001b[0;34m)\u001b[0m\u001b[0;34m)\u001b[0m\u001b[0;34m\u001b[0m\u001b[0m\n\u001b[1;32m     12\u001b[0m \u001b[0;34m\u001b[0m\u001b[0m\n\u001b[0;32m---> 13\u001b[0;31m \u001b[0;32mfor\u001b[0m \u001b[0mp\u001b[0m \u001b[0;32min\u001b[0m \u001b[0mword_chain\u001b[0m\u001b[0;34m(\u001b[0m\u001b[0mget_words\u001b[0m\u001b[0;34m(\u001b[0m\u001b[0;34m)\u001b[0m\u001b[0;34m,\u001b[0m \u001b[0;34m'cat'\u001b[0m\u001b[0;34m,\u001b[0m \u001b[0;34m'dog'\u001b[0m\u001b[0;34m)\u001b[0m\u001b[0;34m:\u001b[0m\u001b[0;34m\u001b[0m\u001b[0m\n\u001b[0m\u001b[1;32m     14\u001b[0m     \u001b[0;32mprint\u001b[0m \u001b[0mp\u001b[0m\u001b[0;34m\u001b[0m\u001b[0m\n\u001b[1;32m     15\u001b[0m \u001b[0;34m\u001b[0m\u001b[0m\n",
      "\u001b[0;32m<ipython-input-17-15b1ed0186ae>\u001b[0m in \u001b[0;36mword_chain\u001b[0;34m(words, start, end)\u001b[0m\n\u001b[1;32m      5\u001b[0m         \u001b[0;32mif\u001b[0m \u001b[0mlen\u001b[0m\u001b[0;34m(\u001b[0m\u001b[0mpath\u001b[0m\u001b[0;34m)\u001b[0m \u001b[0;34m>=\u001b[0m\u001b[0;36m5\u001b[0m\u001b[0;34m:\u001b[0m\u001b[0;34m\u001b[0m\u001b[0m\n\u001b[1;32m      6\u001b[0m             \u001b[0;32mbreak\u001b[0m\u001b[0;34m\u001b[0m\u001b[0m\n\u001b[0;32m----> 7\u001b[0;31m         \u001b[0;32mfor\u001b[0m \u001b[0mmove\u001b[0m \u001b[0;32min\u001b[0m \u001b[0msingle_move\u001b[0m\u001b[0;34m(\u001b[0m\u001b[0mwords\u001b[0m\u001b[0;34m,\u001b[0m \u001b[0mword\u001b[0m\u001b[0;34m)\u001b[0m \u001b[0;34m-\u001b[0m \u001b[0mset\u001b[0m\u001b[0;34m(\u001b[0m\u001b[0mpath\u001b[0m\u001b[0;34m)\u001b[0m\u001b[0;34m:\u001b[0m\u001b[0;34m\u001b[0m\u001b[0m\n\u001b[0m\u001b[1;32m      8\u001b[0m             \u001b[0;32mif\u001b[0m \u001b[0mmove\u001b[0m \u001b[0;34m==\u001b[0m \u001b[0mend\u001b[0m\u001b[0;34m:\u001b[0m\u001b[0;34m\u001b[0m\u001b[0m\n\u001b[1;32m      9\u001b[0m                 \u001b[0;32myield\u001b[0m \u001b[0mpath\u001b[0m \u001b[0;34m+\u001b[0m \u001b[0;34m[\u001b[0m\u001b[0mmove\u001b[0m\u001b[0;34m]\u001b[0m\u001b[0;34m\u001b[0m\u001b[0m\n",
      "\u001b[0;32m<ipython-input-15-65ed38d82245>\u001b[0m in \u001b[0;36msingle_move\u001b[0;34m(words, word1)\u001b[0m\n\u001b[1;32m      5\u001b[0m     \u001b[0mresults\u001b[0m \u001b[0;34m=\u001b[0m \u001b[0mset\u001b[0m\u001b[0;34m(\u001b[0m\u001b[0;34m)\u001b[0m\u001b[0;34m\u001b[0m\u001b[0m\n\u001b[1;32m      6\u001b[0m     \u001b[0;32mfor\u001b[0m \u001b[0mword2\u001b[0m \u001b[0;32min\u001b[0m \u001b[0mwords\u001b[0m\u001b[0;34m:\u001b[0m\u001b[0;34m\u001b[0m\u001b[0m\n\u001b[0;32m----> 7\u001b[0;31m         \u001b[0;32mif\u001b[0m \u001b[0mlen\u001b[0m\u001b[0;34m(\u001b[0m\u001b[0mword1\u001b[0m\u001b[0;34m)\u001b[0m \u001b[0;34m==\u001b[0m \u001b[0mlen\u001b[0m\u001b[0;34m(\u001b[0m\u001b[0mword2\u001b[0m\u001b[0;34m)\u001b[0m\u001b[0;34m:\u001b[0m\u001b[0;34m\u001b[0m\u001b[0m\n\u001b[0m\u001b[1;32m      8\u001b[0m             \u001b[0mcount\u001b[0m \u001b[0;34m=\u001b[0m \u001b[0;36m0\u001b[0m\u001b[0;34m\u001b[0m\u001b[0m\n\u001b[1;32m      9\u001b[0m             \u001b[0;32mfor\u001b[0m \u001b[0mi\u001b[0m \u001b[0;32min\u001b[0m \u001b[0mrange\u001b[0m\u001b[0;34m(\u001b[0m\u001b[0;36m0\u001b[0m\u001b[0;34m,\u001b[0m \u001b[0mlen\u001b[0m\u001b[0;34m(\u001b[0m\u001b[0mword1\u001b[0m\u001b[0;34m)\u001b[0m\u001b[0;34m)\u001b[0m\u001b[0;34m:\u001b[0m\u001b[0;34m\u001b[0m\u001b[0m\n",
      "\u001b[0;31mKeyboardInterrupt\u001b[0m: "
     ]
    }
   ],
   "source": [
    "def word_chain(words, start, end):\n",
    "    queue = [(start,[start])]\n",
    "    while queue:\n",
    "        (word, path) = queue.pop(0)\n",
    "        if len(path) >=5: \n",
    "            break\n",
    "        for move in single_move(words, word) - set(path):\n",
    "            if move == end:\n",
    "                yield path + [move]\n",
    "            else:\n",
    "                queue.append((move, path + [move]))\n",
    "\n",
    "for p in word_chain(get_words(), 'cat', 'dog'):\n",
    "    print p\n",
    "     "
   ]
  },
  {
   "cell_type": "code",
   "execution_count": null,
   "metadata": {
    "collapsed": true
   },
   "outputs": [],
   "source": []
  },
  {
   "cell_type": "code",
   "execution_count": null,
   "metadata": {
    "collapsed": true
   },
   "outputs": [],
   "source": []
  }
 ],
 "metadata": {
  "kernelspec": {
   "display_name": "Python 2",
   "language": "python",
   "name": "python2"
  },
  "language_info": {
   "codemirror_mode": {
    "name": "ipython",
    "version": 2
   },
   "file_extension": ".py",
   "mimetype": "text/x-python",
   "name": "python",
   "nbconvert_exporter": "python",
   "pygments_lexer": "ipython2",
   "version": "2.7.13"
  }
 },
 "nbformat": 4,
 "nbformat_minor": 2
}
