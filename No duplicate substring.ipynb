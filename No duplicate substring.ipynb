{
 "cells": [
  {
   "cell_type": "markdown",
   "metadata": {},
   "source": [
    "## Question\n",
    "Given a string, find the max size of a sub-string, in which no duplicate chars present. \n",
    "\n",
    "## Example\n",
    "Input: abbcbda\n",
    "Output: 4 (cbda)"
   ]
  },
  {
   "cell_type": "code",
   "execution_count": 5,
   "metadata": {},
   "outputs": [
    {
     "data": {
      "text/plain": [
       "''"
      ]
     },
     "execution_count": 5,
     "metadata": {},
     "output_type": "execute_result"
    }
   ],
   "source": [
    "def parse(word):\n",
    "    result = ''\n",
    "    for i in range(0, len(word)):\n",
    "        startpos = i\n",
    "        for j in range(startpos, len(word)):\n",
    "            if word[j] not in result:\n",
    "                result = result + word[j]\n",
    "            else:\n",
    "                result = ''\n",
    "                break\n",
    "    return result\n",
    "        \n",
    "parse('abbcbda')"
   ]
  },
  {
   "cell_type": "code",
   "execution_count": null,
   "metadata": {
    "collapsed": true
   },
   "outputs": [],
   "source": []
  }
 ],
 "metadata": {
  "kernelspec": {
   "display_name": "Python 2",
   "language": "python",
   "name": "python2"
  },
  "language_info": {
   "codemirror_mode": {
    "name": "ipython",
    "version": 2
   },
   "file_extension": ".py",
   "mimetype": "text/x-python",
   "name": "python",
   "nbconvert_exporter": "python",
   "pygments_lexer": "ipython2",
   "version": "2.7.13"
  }
 },
 "nbformat": 4,
 "nbformat_minor": 2
}
