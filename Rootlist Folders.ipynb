{
 "cells": [
  {
   "cell_type": "markdown",
   "metadata": {},
   "source": [
    "## Question\n",
    "Spotify represents the list of playlists a user owns/follows as a list of string uris. Spotify also supports folders by having folder-start:<folder name> and folder-end:<folder name> where any playlists (or nested folder) in between those items are within that folder. Given the lists of playlists a user owns and a single playlist return a list of which folders the playlist is in ordered by outermost first. You can start off assuming that every playlist and folder in the list is unique.\n",
    "\n",
    "## Example\n",
    "Input: \"best-of-rock\", [\"playlist:my-favorites\", \"folder-start:genres\", \"folder-start:rock\", \"playlist:best-of-rock\", \"folder-end:rock\", \"folder-end:genres\", \"playlist:old-stuff\"]\n",
    "Output: [\"genres\", \"rock\"]\n"
   ]
  },
  {
   "cell_type": "code",
   "execution_count": 1,
   "metadata": {
    "collapsed": true
   },
   "outputs": [],
   "source": [
    "playlist = {\n",
    "    \"best-of-rock\" : [\"playlist:my-favorites\", \"folder-start:genres\", \"folder-start:rock\", \"playlist:best-of-rock\", \"folder-end:rock\", \"folder-end:genres\", \"playlist:old-stuff\"] \n",
    "}"
   ]
  },
  {
   "cell_type": "code",
   "execution_count": 6,
   "metadata": {},
   "outputs": [
    {
     "data": {
      "text/plain": [
       "['genres', 'rock']"
      ]
     },
     "execution_count": 6,
     "metadata": {},
     "output_type": "execute_result"
    }
   ],
   "source": [
    "def parse(arr):\n",
    "    results = []\n",
    "    for item in arr:\n",
    "        (top, name) = item.split(\":\", 1)\n",
    "        \n",
    "        if 'folder-start' in top:\n",
    "            results.append(name)\n",
    "    return results\n",
    "        \n",
    "parse(playlist[\"best-of-rock\"])"
   ]
  },
  {
   "cell_type": "code",
   "execution_count": null,
   "metadata": {
    "collapsed": true
   },
   "outputs": [],
   "source": []
  }
 ],
 "metadata": {
  "kernelspec": {
   "display_name": "Python 2",
   "language": "python",
   "name": "python2"
  },
  "language_info": {
   "codemirror_mode": {
    "name": "ipython",
    "version": 2
   },
   "file_extension": ".py",
   "mimetype": "text/x-python",
   "name": "python",
   "nbconvert_exporter": "python",
   "pygments_lexer": "ipython2",
   "version": "2.7.13"
  }
 },
 "nbformat": 4,
 "nbformat_minor": 2
}
