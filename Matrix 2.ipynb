{
 "cells": [
  {
   "cell_type": "code",
   "execution_count": 47,
   "metadata": {
    "collapsed": true
   },
   "outputs": [],
   "source": [
    "matrix = [[0, 1, 0, 1, 1], \n",
    "          [1, 0, 1, 1, 0], \n",
    "          [1, 0, 0, 0, 0],\n",
    "          [0, 1, 1, 0, 0]]"
   ]
  },
  {
   "cell_type": "code",
   "execution_count": 54,
   "metadata": {},
   "outputs": [
    {
     "data": {
      "text/plain": [
       "4"
      ]
     },
     "execution_count": 54,
     "metadata": {},
     "output_type": "execute_result"
    }
   ],
   "source": [
    "visited = set()\n",
    "\n",
    "def isSafe(x, y, visited):\n",
    "    return x >=0 and x < ROWS and \\\n",
    "           y >= 0 and y < COLS and \\\n",
    "          (x, y) not in visited and \\\n",
    "          matrix[x][y]\n",
    "\n",
    "def traverse(x, y, visited):\n",
    "    rowNbr = [-1, 1, 0, 0]\n",
    "    colNbr = [0, 0, -1, 1]\n",
    "    \n",
    "    visited.add((x, y))\n",
    "\n",
    "    for k in range(4):\n",
    "        if isSafe(x + rowNbr[k], y + colNbr[k], visited):\n",
    "            traverse(x + rowNbr[k], y + colNbr[k], visited)\n",
    "        \n",
    "        \n",
    "ROWS = len(matrix)\n",
    "COLS = len(matrix[0])\n",
    "count = 0\n",
    "for x in range(ROWS):\n",
    "    for y in range(COLS):\n",
    "        if (x, y) not in visited and matrix[x][y] == 1:\n",
    "            traverse(x, y, visited)\n",
    "            count += 1\n",
    "            \n",
    "count\n",
    "        "
   ]
  },
  {
   "cell_type": "code",
   "execution_count": null,
   "metadata": {
    "collapsed": true
   },
   "outputs": [],
   "source": []
  }
 ],
 "metadata": {
  "kernelspec": {
   "display_name": "Python 2",
   "language": "python",
   "name": "python2"
  },
  "language_info": {
   "codemirror_mode": {
    "name": "ipython",
    "version": 2
   },
   "file_extension": ".py",
   "mimetype": "text/x-python",
   "name": "python",
   "nbconvert_exporter": "python",
   "pygments_lexer": "ipython2",
   "version": "2.7.13"
  }
 },
 "nbformat": 4,
 "nbformat_minor": 2
}
