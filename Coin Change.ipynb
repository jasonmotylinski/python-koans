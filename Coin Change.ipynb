{
 "cells": [
  {
   "cell_type": "markdown",
   "metadata": {},
   "source": [
    "# Coin Change\n",
    "Given infinite amount of each denomination (m), how many combinations of change exist to make up number (n). This is a big O problem of O(m * n)\n"
   ]
  },
  {
   "cell_type": "code",
   "execution_count": 2,
   "metadata": {
    "collapsed": false
   },
   "outputs": [
    {
     "data": {
      "text/plain": [
       "2"
      ]
     },
     "execution_count": 2,
     "metadata": {},
     "output_type": "execute_result"
    }
   ],
   "source": [
    "n = 5\n",
    "m = [1, 25, 3]\n",
    "\n",
    "def change(S, m, n):\n",
    "    if n == 0:\n",
    "        return 1\n",
    "    \n",
    "    if n < 0:\n",
    "        return 0\n",
    "\n",
    "    if m <=0 and n >= 1:\n",
    "        return 0\n",
    "    \n",
    "    return change(S, m - 1, n) + change(S, m, n-S[m-1])\n",
    "\n",
    "change(m, len(m), n)"
   ]
  },
  {
   "cell_type": "code",
   "execution_count": 47,
   "metadata": {
    "collapsed": false
   },
   "outputs": [
    {
     "data": {
      "text/plain": [
       "[[1], [1], [1], [1], [1], [2], [2], [2], [2], [2], [3], [3], [3], [3], [3]]"
      ]
     },
     "execution_count": 47,
     "metadata": {},
     "output_type": "execute_result"
    }
   ],
   "source": [
    "def solutions(S, m, n):\n",
    "    table = []\n",
    "    for i in range(1, len(S) + 1):\n",
    "        for j in range(1, n + 1):\n",
    "            table.append([i])\n",
    "            \n",
    "            if table[i - 1] <= j: \n",
    "                print \"yes\"\n",
    "    return table\n",
    "        \n",
    "solutions(m, len(m), n)"
   ]
  },
  {
   "cell_type": "code",
   "execution_count": null,
   "metadata": {
    "collapsed": true
   },
   "outputs": [],
   "source": []
  }
 ],
 "metadata": {
  "kernelspec": {
   "display_name": "Python 2",
   "language": "python",
   "name": "python2"
  },
  "language_info": {
   "codemirror_mode": {
    "name": "ipython",
    "version": 2
   },
   "file_extension": ".py",
   "mimetype": "text/x-python",
   "name": "python",
   "nbconvert_exporter": "python",
   "pygments_lexer": "ipython2",
   "version": "2.7.10"
  }
 },
 "nbformat": 4,
 "nbformat_minor": 1
}
