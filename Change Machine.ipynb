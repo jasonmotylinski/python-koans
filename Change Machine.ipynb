{
 "cells": [
  {
   "cell_type": "code",
   "execution_count": 37,
   "metadata": {
    "collapsed": false
   },
   "outputs": [
    {
     "data": {
      "text/plain": [
       "{'.01': 2, '.05': 1, '.10': 0, '.25': 10}"
      ]
     },
     "execution_count": 37,
     "metadata": {},
     "output_type": "execute_result"
    }
   ],
   "source": [
    "register = {'.25': 20, '.10': 2, '.05': 20, '.01': 100}\n",
    "amount = 2.57\n",
    "\n",
    "def make_change(val):\n",
    "    change = {'.25':0, '.10':0, '.05': 0, '.01': 0}\n",
    "    \n",
    "    while(val > 0):\n",
    "        if register['.25'] > 0 and val >= .25:\n",
    "            val-=.25\n",
    "            change['.25']+=1\n",
    "            register['.25']-=1\n",
    "        elif register['.10'] > 0 and val >= .10:\n",
    "            val-=.10\n",
    "            change['.10']+=1\n",
    "            register['.10']-=1\n",
    "        elif register['.05'] > 0 and val >= .05:\n",
    "            val-=.05\n",
    "            change['.05']+=1\n",
    "            register['.05']-=1\n",
    "        elif register['.01'] > 0 and val >= .01:\n",
    "            val-=.01\n",
    "            change['.01']+=1\n",
    "            register['.01']-=1\n",
    "        else:\n",
    "            print \"ERROR: {0} change: {1}\".format(val, change)\n",
    "            break\n",
    "        val = round(val, 2)\n",
    "    return change\n",
    "        \n",
    "    \n",
    "make_change(amount)"
   ]
  },
  {
   "cell_type": "code",
   "execution_count": 35,
   "metadata": {
    "collapsed": false
   },
   "outputs": [
    {
     "data": {
      "text/plain": [
       "2.5"
      ]
     },
     "execution_count": 35,
     "metadata": {},
     "output_type": "execute_result"
    }
   ],
   "source": [
    "2.55 - .05"
   ]
  },
  {
   "cell_type": "code",
   "execution_count": null,
   "metadata": {
    "collapsed": true
   },
   "outputs": [],
   "source": []
  }
 ],
 "metadata": {
  "kernelspec": {
   "display_name": "Python 2",
   "language": "python",
   "name": "python2"
  },
  "language_info": {
   "codemirror_mode": {
    "name": "ipython",
    "version": 2
   },
   "file_extension": ".py",
   "mimetype": "text/x-python",
   "name": "python",
   "nbconvert_exporter": "python",
   "pygments_lexer": "ipython2",
   "version": "2.7.10"
  }
 },
 "nbformat": 4,
 "nbformat_minor": 1
}
